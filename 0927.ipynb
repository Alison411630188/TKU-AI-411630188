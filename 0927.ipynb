{
  "nbformat": 4,
  "nbformat_minor": 0,
  "metadata": {
    "colab": {
      "provenance": [],
      "authorship_tag": "ABX9TyNzo+jDGLxJfA3h6E0p9Siw",
      "include_colab_link": true
    },
    "kernelspec": {
      "name": "python3",
      "display_name": "Python 3"
    },
    "language_info": {
      "name": "python"
    }
  },
  "cells": [
    {
      "cell_type": "markdown",
      "metadata": {
        "id": "view-in-github",
        "colab_type": "text"
      },
      "source": [
        "<a href=\"https://colab.research.google.com/github/Alison411630188/TKU-AI-411630188/blob/main/0927.ipynb\" target=\"_parent\"><img src=\"https://colab.research.google.com/assets/colab-badge.svg\" alt=\"Open In Colab\"/></a>"
      ]
    },
    {
      "cell_type": "code",
      "execution_count": null,
      "metadata": {
        "id": "O-lf0kFCUOMt"
      },
      "outputs": [],
      "source": []
    },
    {
      "cell_type": "code",
      "source": [
        "import matplotlib.pyplot as plt"
      ],
      "metadata": {
        "id": "l9npaktghe1V"
      },
      "execution_count": 2,
      "outputs": []
    },
    {
      "cell_type": "code",
      "source": [
        "plt.plot([9,9.2,9.6,7.5,6.7,7],[9.4,9.2,9.2,9.2,7.1,7.4],'yx')\n",
        "plt.plot([7.2,7.3,7.2,7.3,7.2,7.3,7.3],[10.3,10.5,9.2,10.2,9.7,10.1,10.1],'gx')\n",
        "plt.plot([6.5,9.0],[7.8,12.5],'b--')\n",
        "plt.ylabel('H cm')\n",
        "plt.xlabel('H cm')  \n",
        "plt.legend(('Orange','Lemons'),loc='upper right')\n",
        "plt.show()    \n"
      ],
      "metadata": {
        "colab": {
          "base_uri": "https://localhost:8080/",
          "height": 279
        },
        "id": "n-FCIt4nhgA6",
        "outputId": "fb59b1b3-eef3-4b80-b0bb-1583ff20c9fd"
      },
      "execution_count": 3,
      "outputs": [
        {
          "output_type": "display_data",
          "data": {
            "text/plain": [
              "<Figure size 432x288 with 1 Axes>"
            ],
            "image/png": "[encoded data removed]"
          },
          "metadata": {
            "needs_background": "light"
          }
        }
      ]
    },
    {
      "cell_type": "markdown",
      "source": [],
      "metadata": {
        "id": "hoF8ZHgKjbqn"
      }
    },
    {
      "cell_type": "code",
      "source": [],
      "metadata": {
        "id": "0mlGi2PSjSuU"
      },
      "execution_count": null,
      "outputs": []
    }
  ]
}